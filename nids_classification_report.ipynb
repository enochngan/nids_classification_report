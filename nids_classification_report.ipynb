{
 "cells": [
  {
   "cell_type": "markdown",
   "id": "747e4576-67ca-406b-ab82-5d3a9c93ac0e",
   "metadata": {},
   "source": [
    "# Classifcation Report: Network Intrusion Detection System (NIDS) Implementation using Snort "
   ]
  },
  {
   "cell_type": "markdown",
   "id": "273b2813-5c79-4fce-a156-559a119ee43d",
   "metadata": {},
   "source": [
    "### By Group 7 - Aisha Patel, Enoch Ngan, Liam Chen, Amara Johnson, Diego Ramirez, Sofia Ahmed, Ethan Kim\n",
    "Date: April 16, 2024"
   ]
  },
  {
   "cell_type": "markdown",
   "id": "b954683a-d100-4ede-9cac-448982cad752",
   "metadata": {},
   "source": [
    "#### Introduction:\n",
    "\n",
    "The classification report for this project evaluates the performance of the Snort Network Intrusion Detection System (NIDS) in distinguishing between malicious and legitimate traffic across various scenarios. The report highlights key metrics such as precision, recall, F1-score, and accuracy to quantify the effectiveness of predefined Snort rules in detecting simulated cyberattacks and normal user activities.\n",
    "\n",
    "#### Goals:\n",
    "\n",
    "Precision: Indicates Snort's ability to correctly identify malicious traffic without flagging legitimate activity. High precision reflects fewer false positives, ensuring that legitimate actions (e.g., normal SSH logins) are not incorrectly flagged as intrusions.\n",
    "\n",
    "Recall: Measures Snort's success in detecting malicious traffic, even in complex scenarios like SQL injection or port scans. High recall suggests that most attack attempts were accurately identified.\n",
    "\n",
    "\n",
    "F1-Score: Balances precision and recall, providing a comprehensive metric to evaluate rule performance.\n",
    "\n",
    "\n",
    "Accuracy: Overall effectiveness of Snort in correctly classifying traffic.\n",
    "\n",
    "\n",
    "The classification report further compares the results of multiple rule sets, demonstrating how rule tuning affects Snort's ability to minimize false positives (FPs) and false negatives (FNs). These findings are essential for improving rule specificity and balancing detection capabilities, ensuring robust protection against cyber threats while maintaining normal network functionality.\n",
    "\n",
    "#### Purpose: \n",
    "This analysis provides actionable insights for refining intrusion detection rules to optimize the trade-off between sensitivity and specificity."
   ]
  },
  {
   "cell_type": "code",
   "execution_count": 7,
   "id": "86fbd810-94cd-4e25-9424-e477ada2f8cf",
   "metadata": {},
   "outputs": [
    {
     "data": {
      "text/html": [
       "<div>\n",
       "<style scoped>\n",
       "    .dataframe tbody tr th:only-of-type {\n",
       "        vertical-align: middle;\n",
       "    }\n",
       "\n",
       "    .dataframe tbody tr th {\n",
       "        vertical-align: top;\n",
       "    }\n",
       "\n",
       "    .dataframe thead th {\n",
       "        text-align: right;\n",
       "    }\n",
       "</style>\n",
       "<table border=\"1\" class=\"dataframe\">\n",
       "  <thead>\n",
       "    <tr style=\"text-align: right;\">\n",
       "      <th></th>\n",
       "      <th>Test Case</th>\n",
       "      <th>Attempt</th>\n",
       "      <th>Actual Type</th>\n",
       "      <th>Snort Prediction</th>\n",
       "      <th>Result</th>\n",
       "    </tr>\n",
       "  </thead>\n",
       "  <tbody>\n",
       "    <tr>\n",
       "      <th>0</th>\n",
       "      <td>SSH Login</td>\n",
       "      <td>1</td>\n",
       "      <td>Legitimate</td>\n",
       "      <td>Legitimate</td>\n",
       "      <td>TN</td>\n",
       "    </tr>\n",
       "    <tr>\n",
       "      <th>1</th>\n",
       "      <td>SSH Login</td>\n",
       "      <td>2</td>\n",
       "      <td>Legitimate</td>\n",
       "      <td>Legitimate</td>\n",
       "      <td>TN</td>\n",
       "    </tr>\n",
       "    <tr>\n",
       "      <th>2</th>\n",
       "      <td>SSH Login</td>\n",
       "      <td>3</td>\n",
       "      <td>Legitimate</td>\n",
       "      <td>Malicious</td>\n",
       "      <td>FP</td>\n",
       "    </tr>\n",
       "    <tr>\n",
       "      <th>3</th>\n",
       "      <td>SSH Login</td>\n",
       "      <td>4</td>\n",
       "      <td>Legitimate</td>\n",
       "      <td>Legitimate</td>\n",
       "      <td>TN</td>\n",
       "    </tr>\n",
       "    <tr>\n",
       "      <th>4</th>\n",
       "      <td>SSH Login</td>\n",
       "      <td>5</td>\n",
       "      <td>Legitimate</td>\n",
       "      <td>Legitimate</td>\n",
       "      <td>TN</td>\n",
       "    </tr>\n",
       "  </tbody>\n",
       "</table>\n",
       "</div>"
      ],
      "text/plain": [
       "   Test Case  Attempt Actual Type Snort Prediction Result\n",
       "0  SSH Login        1  Legitimate       Legitimate     TN\n",
       "1  SSH Login        2  Legitimate       Legitimate     TN\n",
       "2  SSH Login        3  Legitimate        Malicious     FP\n",
       "3  SSH Login        4  Legitimate       Legitimate     TN\n",
       "4  SSH Login        5  Legitimate       Legitimate     TN"
      ]
     },
     "execution_count": 7,
     "metadata": {},
     "output_type": "execute_result"
    }
   ],
   "source": [
    "import pandas as pd\n",
    "\n",
    "df = pd.read_csv('snort_results.csv')\n",
    "\n",
    "df.head() # read and print the csv file"
   ]
  },
  {
   "cell_type": "code",
   "execution_count": 10,
   "id": "e9946337-156f-4ca2-b68f-50fa5641d0bb",
   "metadata": {},
   "outputs": [
    {
     "data": {
      "text/html": [
       "<div>\n",
       "<style scoped>\n",
       "    .dataframe tbody tr th:only-of-type {\n",
       "        vertical-align: middle;\n",
       "    }\n",
       "\n",
       "    .dataframe tbody tr th {\n",
       "        vertical-align: top;\n",
       "    }\n",
       "\n",
       "    .dataframe thead th {\n",
       "        text-align: right;\n",
       "    }\n",
       "</style>\n",
       "<table border=\"1\" class=\"dataframe\">\n",
       "  <thead>\n",
       "    <tr style=\"text-align: right;\">\n",
       "      <th></th>\n",
       "      <th>Test Case</th>\n",
       "      <th>Attempt</th>\n",
       "      <th>Actual Type</th>\n",
       "      <th>Snort Prediction</th>\n",
       "      <th>Result</th>\n",
       "      <th>Actual</th>\n",
       "      <th>Prediction</th>\n",
       "    </tr>\n",
       "  </thead>\n",
       "  <tbody>\n",
       "    <tr>\n",
       "      <th>0</th>\n",
       "      <td>SSH Login</td>\n",
       "      <td>1</td>\n",
       "      <td>Legitimate</td>\n",
       "      <td>Legitimate</td>\n",
       "      <td>TN</td>\n",
       "      <td>0</td>\n",
       "      <td>0</td>\n",
       "    </tr>\n",
       "    <tr>\n",
       "      <th>1</th>\n",
       "      <td>SSH Login</td>\n",
       "      <td>2</td>\n",
       "      <td>Legitimate</td>\n",
       "      <td>Legitimate</td>\n",
       "      <td>TN</td>\n",
       "      <td>0</td>\n",
       "      <td>0</td>\n",
       "    </tr>\n",
       "    <tr>\n",
       "      <th>2</th>\n",
       "      <td>SSH Login</td>\n",
       "      <td>3</td>\n",
       "      <td>Legitimate</td>\n",
       "      <td>Malicious</td>\n",
       "      <td>FP</td>\n",
       "      <td>0</td>\n",
       "      <td>1</td>\n",
       "    </tr>\n",
       "    <tr>\n",
       "      <th>3</th>\n",
       "      <td>SSH Login</td>\n",
       "      <td>4</td>\n",
       "      <td>Legitimate</td>\n",
       "      <td>Legitimate</td>\n",
       "      <td>TN</td>\n",
       "      <td>0</td>\n",
       "      <td>0</td>\n",
       "    </tr>\n",
       "    <tr>\n",
       "      <th>4</th>\n",
       "      <td>SSH Login</td>\n",
       "      <td>5</td>\n",
       "      <td>Legitimate</td>\n",
       "      <td>Legitimate</td>\n",
       "      <td>TN</td>\n",
       "      <td>0</td>\n",
       "      <td>0</td>\n",
       "    </tr>\n",
       "  </tbody>\n",
       "</table>\n",
       "</div>"
      ],
      "text/plain": [
       "   Test Case  Attempt Actual Type Snort Prediction Result  Actual  Prediction\n",
       "0  SSH Login        1  Legitimate       Legitimate     TN       0           0\n",
       "1  SSH Login        2  Legitimate       Legitimate     TN       0           0\n",
       "2  SSH Login        3  Legitimate        Malicious     FP       0           1\n",
       "3  SSH Login        4  Legitimate       Legitimate     TN       0           0\n",
       "4  SSH Login        5  Legitimate       Legitimate     TN       0           0"
      ]
     },
     "execution_count": 10,
     "metadata": {},
     "output_type": "execute_result"
    }
   ],
   "source": [
    "# Map categorical values into numerical values\n",
    "df['Actual'] = df['Actual Type'].map({'Legitimate': 0, 'Malicious': 1})\n",
    "df['Prediction'] = df['Snort Prediction'].map({'Legitimate': 0, 'Malicious': 1})\n",
    "\n",
    "df.head()"
   ]
  },
  {
   "cell_type": "code",
   "execution_count": 14,
   "id": "058411fb-af3d-4e1a-8762-be27fea4bbdf",
   "metadata": {},
   "outputs": [],
   "source": [
    "actual = df['Actual']\n",
    "prediction = df['Prediction']"
   ]
  },
  {
   "cell_type": "code",
   "execution_count": 21,
   "id": "8e4c1f5e-d43a-4f35-ab39-00eaf87a0763",
   "metadata": {},
   "outputs": [
    {
     "name": "stdout",
     "output_type": "stream",
     "text": [
      "Classification Report: \n",
      "\n",
      "              precision    recall  f1-score   support\n",
      "\n",
      "  Legitimate       0.86      0.83      0.85        30\n",
      "   Malicious       0.76      0.80      0.78        20\n",
      "\n",
      "    accuracy                           0.82        50\n",
      "   macro avg       0.81      0.82      0.81        50\n",
      "weighted avg       0.82      0.82      0.82        50\n",
      "\n",
      "Confusion Matrix: \n",
      "\n",
      "[[25  5]\n",
      " [ 4 16]]\n"
     ]
    }
   ],
   "source": [
    "from sklearn.metrics import classification_report, confusion_matrix\n",
    "\n",
    "# Generate classification report\n",
    "print(\"Classification Report: \\n\")\n",
    "print(classification_report(actual, prediction, target_names=[\"Legitimate\", \"Malicious\"]))\n",
    "\n",
    "# Confusion matrix for detailed analysis\n",
    "print(\"Confusion Matrix: \\n\")\n",
    "print(confusion_matrix(actual, prediction))"
   ]
  },
  {
   "cell_type": "markdown",
   "id": "575ad7a2-5c3f-41f6-820f-c7f70bacf627",
   "metadata": {},
   "source": [
    "### Final Report: Key findings\n",
    "\n",
    "Amount of attempts: 50 attempts (10 attempts per each 5 test case)\n",
    "\n",
    "True Positives: 25, True Negatives: 16, False Postives: 4, False Negatives: 5\n",
    "\n",
    "Our rule set was able to achieve was and 82% acccuracy at correctly classifying specific instances. "
   ]
  }
 ],
 "metadata": {
  "kernelspec": {
   "display_name": "Python 3 (ipykernel)",
   "language": "python",
   "name": "python3"
  },
  "language_info": {
   "codemirror_mode": {
    "name": "ipython",
    "version": 3
   },
   "file_extension": ".py",
   "mimetype": "text/x-python",
   "name": "python",
   "nbconvert_exporter": "python",
   "pygments_lexer": "ipython3",
   "version": "3.10.9"
  }
 },
 "nbformat": 4,
 "nbformat_minor": 5
}
